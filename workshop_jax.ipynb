{
  "cells": [
    {
      "cell_type": "markdown",
      "metadata": {
        "id": "view-in-github",
        "colab_type": "text"
      },
      "source": [
        "<a href=\"https://colab.research.google.com/github/renecotyfanboy/Bayes-JAX-tutorial/blob/main/workshop_jax.ipynb\" target=\"_parent\"><img src=\"https://colab.research.google.com/assets/colab-badge.svg\" alt=\"Open In Colab\"/></a>"
      ]
    },
    {
      "cell_type": "markdown",
      "source": [
        "# Where everyone starts"
      ],
      "metadata": {
        "id": "tEp5q9iv1jOl"
      }
    },
    {
      "cell_type": "code",
      "source": [
        "import math\n",
        "\n",
        "def busy():\n",
        "\n",
        "  return math.exp(sum([(-1)**(i%2 +1)/i for i in range(1, int(1e6))]))"
      ],
      "metadata": {
        "id": "ydYp5NXO2FPd"
      },
      "execution_count": null,
      "outputs": []
    },
    {
      "cell_type": "code",
      "source": [
        "%%timeit\n",
        "busy()"
      ],
      "metadata": {
        "colab": {
          "base_uri": "https://localhost:8080/"
        },
        "id": "rwFsL5oD4NQE",
        "outputId": "eb12900b-a649-4656-ba5c-a35f2c964ad1"
      },
      "execution_count": null,
      "outputs": [
        {
          "output_type": "stream",
          "name": "stdout",
          "text": [
            "392 ms ± 6.65 ms per loop (mean ± std. dev. of 7 runs, 1 loop each)\n"
          ]
        }
      ]
    },
    {
      "cell_type": "markdown",
      "source": [
        "# The world of vectorization"
      ],
      "metadata": {
        "id": "bGfCgVF81nde"
      }
    },
    {
      "cell_type": "code",
      "source": [
        "import numpy as np \n",
        "\n",
        "def busy_numpy():\n",
        "\n",
        "  integers = np.arange(1, int(1e6))\n",
        "\n",
        "  return np.exp(np.sum((-1)**(integers%2 +1)/integers))"
      ],
      "metadata": {
        "id": "IgsWr5iw2HiG"
      },
      "execution_count": null,
      "outputs": []
    },
    {
      "cell_type": "code",
      "source": [
        "%%timeit\n",
        "\n",
        "busy_numpy()"
      ],
      "metadata": {
        "colab": {
          "base_uri": "https://localhost:8080/"
        },
        "id": "atMW3OFZ3J7o",
        "outputId": "e72fca13-4bab-45a0-a5cc-1715d696de41"
      },
      "execution_count": null,
      "outputs": [
        {
          "output_type": "stream",
          "name": "stdout",
          "text": [
            "21.7 ms ± 955 µs per loop (mean ± std. dev. of 7 runs, 10 loops each)\n"
          ]
        }
      ]
    },
    {
      "cell_type": "markdown",
      "source": [
        "# Even faster ?"
      ],
      "metadata": {
        "id": "bur2ikqk1u8O"
      }
    },
    {
      "cell_type": "code",
      "source": [
        "import jax.numpy as jnp \n",
        "\n",
        "def busy_jax():\n",
        "\n",
        "  integers = jnp.arange(1, int(1e6))\n",
        "\n",
        "  return jnp.exp(jnp.sum((-1)**(integers%2 +1)/integers))"
      ],
      "metadata": {
        "id": "YFJzKa2U5Lnk"
      },
      "execution_count": null,
      "outputs": []
    },
    {
      "cell_type": "code",
      "source": [
        "%%timeit\n",
        "busy_jax().block_until_ready()"
      ],
      "metadata": {
        "colab": {
          "base_uri": "https://localhost:8080/"
        },
        "id": "R-u6w4-q5Sf7",
        "outputId": "2487bb1a-7670-4b4e-91bb-5620b6b9184d"
      },
      "execution_count": null,
      "outputs": [
        {
          "output_type": "stream",
          "name": "stdout",
          "text": [
            "11 ms ± 209 µs per loop (mean ± std. dev. of 7 runs, 100 loops each)\n"
          ]
        }
      ]
    },
    {
      "cell_type": "code",
      "source": [
        "import jax\n",
        "\n",
        "busy_jit = jax.jit(busy_jax)\n",
        "busy_jit().block_until_ready()"
      ],
      "metadata": {
        "colab": {
          "base_uri": "https://localhost:8080/"
        },
        "id": "Ep_qsqL05U4j",
        "outputId": "5074106a-fd1f-4353-b0df-46b75012cabf"
      },
      "execution_count": null,
      "outputs": [
        {
          "output_type": "execute_result",
          "data": {
            "text/plain": [
              "DeviceArray(2.0000007, dtype=float32)"
            ]
          },
          "metadata": {},
          "execution_count": 32
        }
      ]
    },
    {
      "cell_type": "code",
      "source": [
        "%%timeit\n",
        "busy_jit().block_until_ready()"
      ],
      "metadata": {
        "colab": {
          "base_uri": "https://localhost:8080/"
        },
        "id": "cG9KXA3Q5j47",
        "outputId": "9acb22d5-734c-42a0-a3b3-7be098536b05"
      },
      "execution_count": null,
      "outputs": [
        {
          "output_type": "stream",
          "name": "stdout",
          "text": [
            "5.25 µs ± 1.6 µs per loop (mean ± std. dev. of 7 runs, 100000 loops each)\n"
          ]
        }
      ]
    },
    {
      "cell_type": "markdown",
      "source": [
        "# What is JAX and how does it work ? "
      ],
      "metadata": {
        "id": "5_TYkF1g6cGL"
      }
    },
    {
      "cell_type": "code",
      "source": [
        "import matplotlib.pyplot as plt \n",
        "from jax.config import config\n",
        "config.update(\"jax_enable_x64\", True)\n",
        "\n",
        "\n",
        "def function_1(x):\n",
        "\n",
        "  return 5/x\n",
        "\n",
        "def function_2(x):\n",
        "\n",
        "  return jnp.arctan(x)\n",
        "\n",
        "x = np.linspace(1, 10, 1000)\n",
        "approx_root = 3.8056450482688104\n",
        "\n",
        "plt.figure(figsize=(6,6))\n",
        "plt.plot(x, function_1(x), label=r'$\\frac{5}{x}$')\n",
        "plt.plot(x, function_2(x), label=r'$artan(x)$')\n",
        "plt.axvline(approx_root, color='black', linestyle='dotted')\n",
        "plt.legend();"
      ],
      "metadata": {
        "colab": {
          "base_uri": "https://localhost:8080/",
          "height": 374
        },
        "id": "uxePu_rv6jMs",
        "outputId": "3a38cc7c-2abc-41ee-b200-7d3b892a1a91"
      },
      "execution_count": null,
      "outputs": [
        {
          "output_type": "display_data",
          "data": {
            "text/plain": [
              "<Figure size 432x432 with 1 Axes>"
            ],
            "image/png": "[encoded data removed]"
          },
          "metadata": {
            "needs_background": "light"
          }
        }
      ]
    },
    {
      "cell_type": "code",
      "source": [
        "f = jax.jit(lambda x: function_1(x) - function_2(x))\n",
        "df = jax.grad(f)\n",
        "\n",
        "plt.plot(x, f(x))\n",
        "plt.plot(x, jax.vmap(df)(x))"
      ],
      "metadata": {
        "colab": {
          "base_uri": "https://localhost:8080/",
          "height": 283
        },
        "id": "Rl423vBx-rTl",
        "outputId": "cb3456bd-efb6-4fc6-c309-0a9ab7b6fb94"
      },
      "execution_count": null,
      "outputs": [
        {
          "output_type": "execute_result",
          "data": {
            "text/plain": [
              "[<matplotlib.lines.Line2D at 0x7f501cd99fd0>]"
            ]
          },
          "metadata": {},
          "execution_count": 249
        },
        {
          "output_type": "display_data",
          "data": {
            "text/plain": [
              "<Figure size 432x288 with 1 Axes>"
            ],
            "image/png": "[encoded data removed]"
          },
          "metadata": {
            "needs_background": "light"
          }
        }
      ]
    },
    {
      "cell_type": "code",
      "source": [
        "@jax.jit\n",
        "def newton_step(x):\n",
        "\n",
        "  return x - f(x)/df(x), x\n",
        "\n",
        "x1 = np.inf #Dummy value\n",
        "x2 = 5. #Starting point\n",
        "\n",
        "tol = 1e-12\n",
        "\n",
        "n_iter = 0\n",
        "\n",
        "while jnp.abs(x1 - x2) > tol:\n",
        "\n",
        "  x2, x1 = newton_step(x2)\n",
        "  n_iter += 1\n",
        "\n",
        "print(f'Root is approximately x = {(x1 + x2)/2} +- {tol} after {n_iter} iterations')"
      ],
      "metadata": {
        "colab": {
          "base_uri": "https://localhost:8080/"
        },
        "id": "SktbL2Pe_mTr",
        "outputId": "2d360d86-6acb-432a-94ee-f6a8a5daa0bb"
      },
      "execution_count": null,
      "outputs": [
        {
          "output_type": "stream",
          "name": "stdout",
          "text": [
            "Root is approximately x = 3.8056450482688104 +- 1e-12 after 6 iterations\n"
          ]
        }
      ]
    },
    {
      "cell_type": "code",
      "source": [
        "d2f = jax.grad(df)\n",
        "\n",
        "@jax.jit\n",
        "def chebyshev_step(x):\n",
        "\n",
        "  return x - f(x)/df(x) - 1/2 * (f(x)/df(x))**2*(d2f(x)/df(x)), x\n",
        "\n",
        "x1 = np.inf #Dummy value\n",
        "x2 = 5. #Starting point\n",
        "\n",
        "tol = 1e-12\n",
        "\n",
        "n_iter = 0\n",
        "\n",
        "while jnp.abs(x1 - x2) > tol:\n",
        "\n",
        "  x2, x1 = chebyshev_step(x2)\n",
        "  n_iter += 1\n",
        "\n",
        "print(f'Root is approximately x = {(x1 + x2)/2} +- {tol} after {n_iter} iterations')"
      ],
      "metadata": {
        "colab": {
          "base_uri": "https://localhost:8080/"
        },
        "id": "918-YF5MAswg",
        "outputId": "6206e655-4971-4378-8c6c-85f02e54869d"
      },
      "execution_count": null,
      "outputs": [
        {
          "output_type": "stream",
          "name": "stdout",
          "text": [
            "Root is approximately x = 3.8056450482688504 +- 1e-12 after 4 iterations\n"
          ]
        }
      ]
    },
    {
      "cell_type": "code",
      "source": [],
      "metadata": {
        "id": "9JZ32KiVNmG4"
      },
      "execution_count": null,
      "outputs": []
    }
  ],
  "metadata": {
    "colab": {
      "collapsed_sections": [],
      "name": "workshop_jax.ipynb",
      "provenance": [],
      "toc_visible": true,
      "include_colab_link": true
    },
    "gpuClass": "standard",
    "kernelspec": {
      "display_name": "Python 3",
      "name": "python3"
    },
    "language_info": {
      "name": "python"
    }
  },
  "nbformat": 4,
  "nbformat_minor": 0
}